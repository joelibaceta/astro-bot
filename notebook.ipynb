{
 "cells": [
  {
   "cell_type": "markdown",
   "id": "e88163f1",
   "metadata": {},
   "source": [
    "## Creando el dataset"
   ]
  },
  {
   "cell_type": "code",
   "execution_count": 1,
   "id": "0256cc25",
   "metadata": {},
   "outputs": [
    {
     "name": "stdout",
     "output_type": "stream",
     "text": [
      "[1/3] Indexando artículos desde el API…\n",
      "   → 711 artículos encontrados\n",
      "[2/3] Scrapeando artículos en paralelo…\n",
      "[3/3] Listo. Artículos OK: 711 | con error: 0\n",
      "CSV: horoscopos.csv\n"
     ]
    }
   ],
   "source": [
    "from prepare_data import run_scraper\n",
    "\n",
    "run_scraper(\n",
    "    out_csv=\"horoscopos.csv\",\n",
    "    max_pages=30,\n",
    "    max_workers=8\n",
    ")"
   ]
  },
  {
   "cell_type": "code",
   "execution_count": 3,
   "id": "7bccb7d3",
   "metadata": {},
   "outputs": [
    {
     "name": "stdout",
     "output_type": "stream",
     "text": [
      "        fecha    signo                                         prediccion\n",
      "0  2025-09-29    ARIES  Hoy los celos te pondrán en una situación incó...\n",
      "1  2025-09-29    TAURO  No dudes de las intenciones de esa persona esp...\n",
      "2  2025-09-29  GÉMINIS  En medio de rumores que harían dudar a cualqui...\n",
      "3  2025-09-29   CÁNCER  Tu amor se pondrá a prueba, descubrirás una me...\n",
      "4  2025-09-29      LEO  Tienes muchas dudas con respecto a tu vida sen...\n"
     ]
    }
   ],
   "source": [
    "import pandas as pd\n",
    "data = pd.read_csv(\"horoscopos.csv\")\n",
    "print(data.head())"
   ]
  },
  {
   "cell_type": "code",
   "execution_count": 4,
   "id": "e0840647",
   "metadata": {},
   "outputs": [
    {
     "name": "stdout",
     "output_type": "stream",
     "text": [
      "Hay  3654 predicciones en el dataset.\n"
     ]
    }
   ],
   "source": [
    "print(\"Hay \", len(data), \"predicciones en el dataset.\")"
   ]
  },
  {
   "cell_type": "markdown",
   "id": "101dee4f",
   "metadata": {},
   "source": [
    "## Creando el modelo de lenguaje"
   ]
  },
  {
   "cell_type": "code",
   "execution_count": 5,
   "id": "8afd1cda",
   "metadata": {},
   "outputs": [],
   "source": [
    "import csv\n",
    "import random\n",
    "import re\n",
    "from collections import defaultdict\n",
    "from typing import Dict, List, Tuple\n",
    "\n",
    "import nltk\n",
    "from nltk import trigrams\n",
    "from nltk.tokenize import sent_tokenize, word_tokenize\n",
    "\n",
    "try:\n",
    "    nltk.data.find(\"tokenizers/punkt\")\n",
    "except LookupError:\n",
    "    nltk.download(\"punkt\")\n",
    "\n",
    "try:\n",
    "    nltk.data.find(\"tokenizers/punkt_tab\")\n",
    "except LookupError:\n",
    "    try:\n",
    "        nltk.download(\"punkt_tab\")\n",
    "    except Exception:\n",
    "        pass"
   ]
  },
  {
   "cell_type": "code",
   "execution_count": 7,
   "id": "bed8de83",
   "metadata": {},
   "outputs": [],
   "source": [
    "def tokenize_es(texto: str) -> List[List[str]]:\n",
    "    sentences = sent_tokenize(texto, language=\"spanish\")\n",
    "    return [word_tokenize(o, language=\"spanish\") for o in sentences]"
   ]
  },
  {
   "cell_type": "code",
   "execution_count": 10,
   "id": "02082e0e",
   "metadata": {},
   "outputs": [],
   "source": [
    "def load_corpus(csv_path: str, by_sign: bool = False) -> Dict[str, List[List[str]]]:\n",
    "    buckets: Dict[str, List[List[str]]] = defaultdict(list)\n",
    "    with open(csv_path, encoding=\"utf-8\", newline=\"\") as f:\n",
    "        r = csv.DictReader(f)\n",
    "        for row in r:\n",
    "            sign = (row.get(\"signo\") or \"\").strip().upper()\n",
    "            pred = row.get(\"prediccion\")\n",
    "            if not pred:\n",
    "                continue\n",
    "            sents_toks = tokenize_es(pred)\n",
    "            if by_sign and sign:\n",
    "                for s in sents_toks:\n",
    "                    if s:\n",
    "                        buckets[sign].append(s)\n",
    "            else:\n",
    "                for s in sents_toks:\n",
    "                    if s:\n",
    "                        buckets[\"_GLOBAL\"].append(s)\n",
    "    return buckets"
   ]
  },
  {
   "cell_type": "code",
   "execution_count": 11,
   "id": "667e9b93",
   "metadata": {},
   "outputs": [],
   "source": [
    "global_corpus = load_corpus(\"horoscopos.csv\", by_sign=False)"
   ]
  },
  {
   "cell_type": "code",
   "execution_count": 13,
   "id": "b9e1d7c4",
   "metadata": {},
   "outputs": [
    {
     "data": {
      "text/plain": [
       "39149"
      ]
     },
     "execution_count": 13,
     "metadata": {},
     "output_type": "execute_result"
    }
   ],
   "source": [
    "def train_trigrams(tokenized_sentences: List[List[str]]):\n",
    "    \"\"\"\n",
    "      model[(w1,w2)][w3] = prob\n",
    "    \"\"\"\n",
    "    model = defaultdict(lambda: defaultdict(float))\n",
    "    for sent in tokenized_sentences:\n",
    "        for w1, w2, w3 in trigrams(sent, pad_left=True, pad_right=True):\n",
    "            model[(w1, w2)][w3] += 1.0\n",
    "\n",
    "    for w1w2 in model:\n",
    "        total = sum(model[w1w2].values())\n",
    "        if total > 0:\n",
    "            for w3 in model[w1w2]:\n",
    "                model[w1w2][w3] /= total\n",
    "    return model\n",
    "\n",
    "global_model = train_trigrams(global_corpus[\"_GLOBAL\"])\n",
    "len(global_model)"
   ]
  },
  {
   "cell_type": "code",
   "execution_count": 17,
   "id": "f8307070",
   "metadata": {},
   "outputs": [],
   "source": [
    "from typing import Optional\n",
    "\n",
    "def sample_next(model: dict, w1: str, w2: str) -> Optional[str]:\n",
    "    dist = model.get((w1, w2), {})\n",
    "    if not dist:\n",
    "        for ctx in [(None, w2), (w1, None), (None, None)]:\n",
    "            dist = model.get(ctx, {})\n",
    "            if dist:\n",
    "                break\n",
    "        if not dist:\n",
    "            return None\n",
    "\n",
    "    r = random.random()\n",
    "    acc = 0.0\n",
    "    for w3, p in dist.items():\n",
    "        acc += p\n",
    "        if acc >= r:\n",
    "            return w3\n",
    "    return next(iter(dist.keys()))\n",
    "\n",
    "def generate_sentence(model: dict, seeds: Tuple[str, str] = (None, None), max_len: int = 30) -> str:\n",
    "    text: List[str] = [seeds[0], seeds[1]]\n",
    "    sentence_finished = False\n",
    "\n",
    "    while not sentence_finished and len(text) < max_len + 2:\n",
    "        w3 = sample_next(model, text[-2], text[-1])\n",
    "        text.append(w3)\n",
    "        if text[-2:] == [None, None] or w3 is None:\n",
    "            sentence_finished = True\n",
    "\n",
    "    sentence = \" \".join([t for t in text if t])\n",
    "    sentence = sentence.strip()\n",
    "    if sentence and sentence[-1] not in \".!?\":\n",
    "        sentence += \".\"\n",
    "    if sentence:\n",
    "        sentence = sentence[0].upper() + sentence[1:]\n",
    "    return sentence\n",
    "\n",
    "def generate_paragraph(model: dict, n_sentences: int = 3, seeds: Tuple[str, str] = (None, None)) -> str:\n",
    "    return \" \".join(generate_sentence(model, seeds=seeds) for _ in range(n_sentences))"
   ]
  },
  {
   "cell_type": "code",
   "execution_count": 18,
   "id": "4c51dc65",
   "metadata": {},
   "outputs": [
    {
     "name": "stdout",
     "output_type": "stream",
     "text": [
      "== Muestra (GLOBAL) ==\n",
      "Tu vida amorosa se ha convertido en motivo de trabajo ; te organizarás para tener todo bajo control y no dejarás pasar una más . Tu optimismo contagiará a tus problemas sentimentales debes empezar por tener una relación más consolidada volverá a perturbarte . Hoy no pararás hasta solucionarlos .\n"
     ]
    }
   ],
   "source": [
    "print(\"== Muestra (GLOBAL) ==\")\n",
    "print(generate_paragraph(global_model, n_sentences=3, seeds=(None, None)))"
   ]
  },
  {
   "cell_type": "markdown",
   "id": "a05236be",
   "metadata": {},
   "source": [
    "## Persistencia del modelo"
   ]
  },
  {
   "cell_type": "code",
   "execution_count": 24,
   "id": "3a6a7a2a",
   "metadata": {},
   "outputs": [],
   "source": [
    "import json, gzip\n",
    "from collections import defaultdict\n",
    "\n",
    "def save_trigram_json(model: dict, path: str, metadata=None) -> None:\n",
    "    rows = []\n",
    "    for (w1, w2), dist in model.items():\n",
    "        rows.append({\n",
    "            \"w1\": w1, \"w2\": w2,\n",
    "            \"next\": [{\"w3\": w3, \"p\": float(p)} for w3, p in dist.items()]\n",
    "        })\n",
    "    payload = {\"format\": \"trigram-v1\", \"metadata\": metadata or {}, \"rows\": rows}\n",
    "    with open(path, \"w\", encoding=\"utf-8\") as f:\n",
    "        json.dump(payload, f, ensure_ascii=False)\n",
    "\n",
    "save_trigram_json(global_model, \"trigram_global.json\", metadata={\"scope\": \"GLOBAL\"})"
   ]
  },
  {
   "cell_type": "markdown",
   "id": "00115eb7",
   "metadata": {},
   "source": [
    "# Un modelo por Signo Zodiacal"
   ]
  },
  {
   "cell_type": "code",
   "execution_count": 25,
   "id": "82de7df2",
   "metadata": {},
   "outputs": [
    {
     "name": "stdout",
     "output_type": "stream",
     "text": [
      "\n",
      "== ARIES ==\n",
      "Hoy la suerte es el diálogo . Estarás muy enamoradizo , pero debes tener paciencia , los objetivos ya están planteados , pero no tendrá la paciencia de siempre , hoy lo sentirás muy vulnerable , lo. Tu sentido de la llegada de un compañero te mortificara , no te desanimes porque aún no encuentras algo que te servirá para reflexionar .\n",
      "\n",
      "== TAURO ==\n",
      "Estarás de muy buen ánimo , irradiarás positivismo lo que lograrás equilibrar tu economía , es el momento ideal para concretarlo , contarás con apoyo . Es una etapa de renovación . Número de suerte 12 .\n",
      "\n",
      "== GÉMINIS ==\n",
      "Sentirás una gran atracción por esa persona que amas , lograrás lo que digas , tendrás que organizarte muy bien aspectada , se perseverante y alcanzarás el éxito será más. Número de suerte , 19 . No te dejes llevar por lo que imaginas , no te conviene trabajar solo tu nuevo proyecto .\n",
      "\n",
      "== CÁNCER ==\n",
      "La estabilidad que lograrás es ahondar tus problemas . Con mucho tacto para que la entrega de tu romance y decidirás tomar las precauciones del caso para poder cumplir con todo lo que buscas . Necesitas pasar más tiempo a su corazón y lograrás que cambie de actitud o se cansará de ti , aceptará feliz tu invitación .\n",
      "\n",
      "== LEO ==\n",
      "Deberás poner mas de entusiasmo en tu rendimiento , trata de acercarse a ti , alguien de tu relación está mejor que te estaban ocasionando retrasos , aún estás a. Hoy te sentirás muy unido al ser amado . Terminarán tus tristezas , los malos entendidos que te llevará hacia su vida y afectar tu tranquilidad sentimental .\n",
      "\n",
      "== VIRGO ==\n",
      "Te darás cuenta que tienes que controlarte , con tus superiores se sentirán satisfechos con tus nuevos proyectos . El buen momento sentimental que atraviesas en el problema con serenidad . El ambiente cálido del que te cautivarán y empezarás a ver la vida social será muy beneficioso económicamente .\n",
      "\n",
      "== LIBRA ==\n",
      "Hoy resolverás un problema familiar de quien amas , agradecerá tu cambio . Irradiarás sensualidad y carisma a todos con la persona que te corresponderá . Tus obligaciones te estresan , agenda tus pendientes y te abrirá nuevas oportunidades .\n",
      "\n",
      "== ESCORPIO ==\n",
      "Número de suerte , 16 . Alguien del pasado no volverán a tu relación volverá a sus vidas . No te rendirás ante los obstáculos y planificarás mejor la exposición de un importante documento .\n",
      "\n",
      "== SAGITARIO ==\n",
      "Esa persona te aceptara a su fin . Situaciones inesperadas te permitirán solucionar definitivamente problemas que te permitan tener ingresos extras , encontrarás algo que llenará tus expectativas . Tus ansias de progresar te llevará a buscar nuevas oportunidades , hoy habrá movilizaciones y decisiones acertadas en tu labor .\n",
      "\n",
      "== CAPRICORNIO ==\n",
      "Los desacuerdos no terminan en discusiones de terceros , hacerlo te crearía problemas que retrasarían tus planes , podrían complicarse y te verás en la rutina y el romance volverán. Esa propuesta de sociedad con un amor del pasado y tendrás la oportunidad para poder reconciliarse y disfrutar nuevamente de su compañía . Hoy tu pareja te aleja de la persona ideal para ti .\n",
      "\n",
      "== ACUARIO ==\n",
      "Recibirás con mucho tacto , pero hoy estarás influenciado por tu ardua labor , cualquier inversión estará muy bien . Serán doce meses en los momentos difíciles logrará ganarse tu amor será correspondido con intensidad y terminará tu inseguridad . Insistirás en un gran momento , hoy te olvidarás de tu pareja y sin saber lo que sientes que le falta emoción a tu vida nuevas amistades y ha aumentado.\n",
      "\n",
      "== PISCIS ==\n",
      "Tus proyectos personales están tomando forma lentamente , hoy pondrás en orden no tendrás más remedio que aceptar tu error a tiempo . Alguien volverá , no te limites , tienes que trabajar en equipo . Estás atravesando una etapa donde la seguridad y confianza harán sólida tu relación y la ilusión .\n"
     ]
    }
   ],
   "source": [
    "SIGNS = [\n",
    "    \"ARIES\",\"TAURO\",\"GÉMINIS\",\"CÁNCER\",\"LEO\",\"VIRGO\",\n",
    "    \"LIBRA\",\"ESCORPIO\",\"SAGITARIO\",\"CAPRICORNIO\",\"ACUARIO\",\"PISCIS\"\n",
    "]\n",
    "\n",
    "def load_corpus_by_sign(csv_path: str) -> Dict[str, List[List[str]]]:\n",
    "    return load_corpus(csv_path, by_sign=True)\n",
    "\n",
    "sign_corpus = load_corpus_by_sign(\"horoscopos.csv\")\n",
    "\n",
    "models_by_sign: Dict[str, dict] = {}\n",
    "for s in SIGNS:\n",
    "    if s in sign_corpus and sign_corpus[s]:\n",
    "        models_by_sign[s] = train_trigrams(sign_corpus[s])\n",
    "\n",
    "for s in SIGNS:\n",
    "    if s in models_by_sign:\n",
    "        print(f\"\\n== {s} ==\")\n",
    "        print(generate_paragraph(models_by_sign[s], n_sentences=3, seeds=(None, None)))\n",
    "    else:\n",
    "        print(f\"\\n== {s} == (sin suficientes datos)\")"
   ]
  },
  {
   "cell_type": "code",
   "execution_count": 27,
   "id": "15e79dd7",
   "metadata": {},
   "outputs": [],
   "source": [
    "for s, m in models_by_sign.items():\n",
    "    save_trigram_json(m, f\"trigram_{s}.json\", metadata={\"scope\": s})\n",
    "    "
   ]
  }
 ],
 "metadata": {
  "kernelspec": {
   "display_name": "env",
   "language": "python",
   "name": "python3"
  },
  "language_info": {
   "codemirror_mode": {
    "name": "ipython",
    "version": 3
   },
   "file_extension": ".py",
   "mimetype": "text/x-python",
   "name": "python",
   "nbconvert_exporter": "python",
   "pygments_lexer": "ipython3",
   "version": "3.11.12"
  }
 },
 "nbformat": 4,
 "nbformat_minor": 5
}
